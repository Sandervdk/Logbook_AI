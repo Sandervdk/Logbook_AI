{
 "metadata": {
  "language_info": {
   "codemirror_mode": {
    "name": "ipython",
    "version": 3
   },
   "file_extension": ".py",
   "mimetype": "text/x-python",
   "name": "python",
   "nbconvert_exporter": "python",
   "pygments_lexer": "ipython3",
   "version": "3.8.3"
  },
  "orig_nbformat": 2,
  "kernelspec": {
   "name": "python383jvsc74a57bd0a8f61be024eba58adef938c9aa1e29e02cb3dece83a5348b1a2dafd16a070453",
   "display_name": "Python 3.8.3 64-bit ('base': conda)"
  }
 },
 "nbformat": 4,
 "nbformat_minor": 2,
 "cells": [
  {
   "source": [
    "# Sander van de Kamp\n",
    "#### 500734351 \n",
    "#### 25/05/2021\n",
    "# Anova, T-toets and PCA for airline satisfaction"
   ],
   "cell_type": "markdown",
   "metadata": {}
  },
  {
   "cell_type": "code",
   "execution_count": 95,
   "metadata": {},
   "outputs": [],
   "source": [
    "import pandas as pd\n",
    "from scipy.stats import ttest_ind, t\n",
    "from sklearn.decomposition import PCA\n",
    "\n",
    "df = pd.read_csv('../../../Bootcamp/data_folder/Airlinesatisfaction.csv')\n",
    "df.columns = df.columns.str.replace(' ', '_').str.lower()\n",
    "df.dropna(inplace = True)\n",
    "df.drop(['unnamed:_0', 'id'], axis = 1, inplace = True)"
   ]
  },
  {
   "cell_type": "code",
   "execution_count": 96,
   "metadata": {},
   "outputs": [
    {
     "output_type": "execute_result",
     "data": {
      "text/plain": [
       "        gender      customer_type  age   type_of_travel     class  \\\n",
       "0         Male     Loyal Customer   13  Personal Travel  Eco Plus   \n",
       "1         Male  disloyal Customer   25  Business travel  Business   \n",
       "2       Female     Loyal Customer   26  Business travel  Business   \n",
       "3       Female     Loyal Customer   25  Business travel  Business   \n",
       "4         Male     Loyal Customer   61  Business travel  Business   \n",
       "...        ...                ...  ...              ...       ...   \n",
       "103899  Female  disloyal Customer   23  Business travel       Eco   \n",
       "103900    Male     Loyal Customer   49  Business travel  Business   \n",
       "103901    Male  disloyal Customer   30  Business travel  Business   \n",
       "103902  Female  disloyal Customer   22  Business travel       Eco   \n",
       "103903    Male     Loyal Customer   27  Business travel  Business   \n",
       "\n",
       "        flight_distance  inflight_wifi_service  \\\n",
       "0                   460                      3   \n",
       "1                   235                      3   \n",
       "2                  1142                      2   \n",
       "3                   562                      2   \n",
       "4                   214                      3   \n",
       "...                 ...                    ...   \n",
       "103899              192                      2   \n",
       "103900             2347                      4   \n",
       "103901             1995                      1   \n",
       "103902             1000                      1   \n",
       "103903             1723                      1   \n",
       "\n",
       "        departure/arrival_time_convenient  ease_of_online_booking  \\\n",
       "0                                       4                       3   \n",
       "1                                       2                       3   \n",
       "2                                       2                       2   \n",
       "3                                       5                       5   \n",
       "4                                       3                       3   \n",
       "...                                   ...                     ...   \n",
       "103899                                  1                       2   \n",
       "103900                                  4                       4   \n",
       "103901                                  1                       1   \n",
       "103902                                  1                       1   \n",
       "103903                                  3                       3   \n",
       "\n",
       "        gate_location  ...  inflight_entertainment  on-board_service  \\\n",
       "0                   1  ...                       5                 4   \n",
       "1                   3  ...                       1                 1   \n",
       "2                   2  ...                       5                 4   \n",
       "3                   5  ...                       2                 2   \n",
       "4                   3  ...                       3                 3   \n",
       "...               ...  ...                     ...               ...   \n",
       "103899              3  ...                       2                 3   \n",
       "103900              4  ...                       5                 5   \n",
       "103901              3  ...                       4                 3   \n",
       "103902              5  ...                       1                 4   \n",
       "103903              3  ...                       1                 1   \n",
       "\n",
       "        leg_room_service  baggage_handling  checkin_service  inflight_service  \\\n",
       "0                      3                 4                4                 5   \n",
       "1                      5                 3                1                 4   \n",
       "2                      3                 4                4                 4   \n",
       "3                      5                 3                1                 4   \n",
       "4                      4                 4                3                 3   \n",
       "...                  ...               ...              ...               ...   \n",
       "103899                 1                 4                2                 3   \n",
       "103900                 5                 5                5                 5   \n",
       "103901                 2                 4                5                 5   \n",
       "103902                 5                 1                5                 4   \n",
       "103903                 1                 4                4                 3   \n",
       "\n",
       "        cleanliness  departure_delay_in_minutes  arrival_delay_in_minutes  \\\n",
       "0                 5                          25                      18.0   \n",
       "1                 1                           1                       6.0   \n",
       "2                 5                           0                       0.0   \n",
       "3                 2                          11                       9.0   \n",
       "4                 3                           0                       0.0   \n",
       "...             ...                         ...                       ...   \n",
       "103899            2                           3                       0.0   \n",
       "103900            4                           0                       0.0   \n",
       "103901            4                           7                      14.0   \n",
       "103902            1                           0                       0.0   \n",
       "103903            1                           0                       0.0   \n",
       "\n",
       "                   satisfaction  \n",
       "0       neutral or dissatisfied  \n",
       "1       neutral or dissatisfied  \n",
       "2                     satisfied  \n",
       "3       neutral or dissatisfied  \n",
       "4                     satisfied  \n",
       "...                         ...  \n",
       "103899  neutral or dissatisfied  \n",
       "103900                satisfied  \n",
       "103901  neutral or dissatisfied  \n",
       "103902  neutral or dissatisfied  \n",
       "103903  neutral or dissatisfied  \n",
       "\n",
       "[103594 rows x 23 columns]"
      ],
      "text/html": "<div>\n<style scoped>\n    .dataframe tbody tr th:only-of-type {\n        vertical-align: middle;\n    }\n\n    .dataframe tbody tr th {\n        vertical-align: top;\n    }\n\n    .dataframe thead th {\n        text-align: right;\n    }\n</style>\n<table border=\"1\" class=\"dataframe\">\n  <thead>\n    <tr style=\"text-align: right;\">\n      <th></th>\n      <th>gender</th>\n      <th>customer_type</th>\n      <th>age</th>\n      <th>type_of_travel</th>\n      <th>class</th>\n      <th>flight_distance</th>\n      <th>inflight_wifi_service</th>\n      <th>departure/arrival_time_convenient</th>\n      <th>ease_of_online_booking</th>\n      <th>gate_location</th>\n      <th>...</th>\n      <th>inflight_entertainment</th>\n      <th>on-board_service</th>\n      <th>leg_room_service</th>\n      <th>baggage_handling</th>\n      <th>checkin_service</th>\n      <th>inflight_service</th>\n      <th>cleanliness</th>\n      <th>departure_delay_in_minutes</th>\n      <th>arrival_delay_in_minutes</th>\n      <th>satisfaction</th>\n    </tr>\n  </thead>\n  <tbody>\n    <tr>\n      <th>0</th>\n      <td>Male</td>\n      <td>Loyal Customer</td>\n      <td>13</td>\n      <td>Personal Travel</td>\n      <td>Eco Plus</td>\n      <td>460</td>\n      <td>3</td>\n      <td>4</td>\n      <td>3</td>\n      <td>1</td>\n      <td>...</td>\n      <td>5</td>\n      <td>4</td>\n      <td>3</td>\n      <td>4</td>\n      <td>4</td>\n      <td>5</td>\n      <td>5</td>\n      <td>25</td>\n      <td>18.0</td>\n      <td>neutral or dissatisfied</td>\n    </tr>\n    <tr>\n      <th>1</th>\n      <td>Male</td>\n      <td>disloyal Customer</td>\n      <td>25</td>\n      <td>Business travel</td>\n      <td>Business</td>\n      <td>235</td>\n      <td>3</td>\n      <td>2</td>\n      <td>3</td>\n      <td>3</td>\n      <td>...</td>\n      <td>1</td>\n      <td>1</td>\n      <td>5</td>\n      <td>3</td>\n      <td>1</td>\n      <td>4</td>\n      <td>1</td>\n      <td>1</td>\n      <td>6.0</td>\n      <td>neutral or dissatisfied</td>\n    </tr>\n    <tr>\n      <th>2</th>\n      <td>Female</td>\n      <td>Loyal Customer</td>\n      <td>26</td>\n      <td>Business travel</td>\n      <td>Business</td>\n      <td>1142</td>\n      <td>2</td>\n      <td>2</td>\n      <td>2</td>\n      <td>2</td>\n      <td>...</td>\n      <td>5</td>\n      <td>4</td>\n      <td>3</td>\n      <td>4</td>\n      <td>4</td>\n      <td>4</td>\n      <td>5</td>\n      <td>0</td>\n      <td>0.0</td>\n      <td>satisfied</td>\n    </tr>\n    <tr>\n      <th>3</th>\n      <td>Female</td>\n      <td>Loyal Customer</td>\n      <td>25</td>\n      <td>Business travel</td>\n      <td>Business</td>\n      <td>562</td>\n      <td>2</td>\n      <td>5</td>\n      <td>5</td>\n      <td>5</td>\n      <td>...</td>\n      <td>2</td>\n      <td>2</td>\n      <td>5</td>\n      <td>3</td>\n      <td>1</td>\n      <td>4</td>\n      <td>2</td>\n      <td>11</td>\n      <td>9.0</td>\n      <td>neutral or dissatisfied</td>\n    </tr>\n    <tr>\n      <th>4</th>\n      <td>Male</td>\n      <td>Loyal Customer</td>\n      <td>61</td>\n      <td>Business travel</td>\n      <td>Business</td>\n      <td>214</td>\n      <td>3</td>\n      <td>3</td>\n      <td>3</td>\n      <td>3</td>\n      <td>...</td>\n      <td>3</td>\n      <td>3</td>\n      <td>4</td>\n      <td>4</td>\n      <td>3</td>\n      <td>3</td>\n      <td>3</td>\n      <td>0</td>\n      <td>0.0</td>\n      <td>satisfied</td>\n    </tr>\n    <tr>\n      <th>...</th>\n      <td>...</td>\n      <td>...</td>\n      <td>...</td>\n      <td>...</td>\n      <td>...</td>\n      <td>...</td>\n      <td>...</td>\n      <td>...</td>\n      <td>...</td>\n      <td>...</td>\n      <td>...</td>\n      <td>...</td>\n      <td>...</td>\n      <td>...</td>\n      <td>...</td>\n      <td>...</td>\n      <td>...</td>\n      <td>...</td>\n      <td>...</td>\n      <td>...</td>\n      <td>...</td>\n    </tr>\n    <tr>\n      <th>103899</th>\n      <td>Female</td>\n      <td>disloyal Customer</td>\n      <td>23</td>\n      <td>Business travel</td>\n      <td>Eco</td>\n      <td>192</td>\n      <td>2</td>\n      <td>1</td>\n      <td>2</td>\n      <td>3</td>\n      <td>...</td>\n      <td>2</td>\n      <td>3</td>\n      <td>1</td>\n      <td>4</td>\n      <td>2</td>\n      <td>3</td>\n      <td>2</td>\n      <td>3</td>\n      <td>0.0</td>\n      <td>neutral or dissatisfied</td>\n    </tr>\n    <tr>\n      <th>103900</th>\n      <td>Male</td>\n      <td>Loyal Customer</td>\n      <td>49</td>\n      <td>Business travel</td>\n      <td>Business</td>\n      <td>2347</td>\n      <td>4</td>\n      <td>4</td>\n      <td>4</td>\n      <td>4</td>\n      <td>...</td>\n      <td>5</td>\n      <td>5</td>\n      <td>5</td>\n      <td>5</td>\n      <td>5</td>\n      <td>5</td>\n      <td>4</td>\n      <td>0</td>\n      <td>0.0</td>\n      <td>satisfied</td>\n    </tr>\n    <tr>\n      <th>103901</th>\n      <td>Male</td>\n      <td>disloyal Customer</td>\n      <td>30</td>\n      <td>Business travel</td>\n      <td>Business</td>\n      <td>1995</td>\n      <td>1</td>\n      <td>1</td>\n      <td>1</td>\n      <td>3</td>\n      <td>...</td>\n      <td>4</td>\n      <td>3</td>\n      <td>2</td>\n      <td>4</td>\n      <td>5</td>\n      <td>5</td>\n      <td>4</td>\n      <td>7</td>\n      <td>14.0</td>\n      <td>neutral or dissatisfied</td>\n    </tr>\n    <tr>\n      <th>103902</th>\n      <td>Female</td>\n      <td>disloyal Customer</td>\n      <td>22</td>\n      <td>Business travel</td>\n      <td>Eco</td>\n      <td>1000</td>\n      <td>1</td>\n      <td>1</td>\n      <td>1</td>\n      <td>5</td>\n      <td>...</td>\n      <td>1</td>\n      <td>4</td>\n      <td>5</td>\n      <td>1</td>\n      <td>5</td>\n      <td>4</td>\n      <td>1</td>\n      <td>0</td>\n      <td>0.0</td>\n      <td>neutral or dissatisfied</td>\n    </tr>\n    <tr>\n      <th>103903</th>\n      <td>Male</td>\n      <td>Loyal Customer</td>\n      <td>27</td>\n      <td>Business travel</td>\n      <td>Business</td>\n      <td>1723</td>\n      <td>1</td>\n      <td>3</td>\n      <td>3</td>\n      <td>3</td>\n      <td>...</td>\n      <td>1</td>\n      <td>1</td>\n      <td>1</td>\n      <td>4</td>\n      <td>4</td>\n      <td>3</td>\n      <td>1</td>\n      <td>0</td>\n      <td>0.0</td>\n      <td>neutral or dissatisfied</td>\n    </tr>\n  </tbody>\n</table>\n<p>103594 rows × 23 columns</p>\n</div>"
     },
     "metadata": {},
     "execution_count": 96
    }
   ],
   "source": [
    "df"
   ]
  },
  {
   "source": [
    "# T-toets"
   ],
   "cell_type": "markdown",
   "metadata": {}
  },
  {
   "cell_type": "code",
   "execution_count": 97,
   "metadata": {},
   "outputs": [
    {
     "output_type": "stream",
     "name": "stdout",
     "text": [
      "t=-2.5523243383624057, p=0.9946493018898546\n"
     ]
    }
   ],
   "source": [
    "dof = len(df) * 2 - 2\n",
    "t_stat, p = ttest_ind(df['departure_delay_in_minutes'], df['arrival_delay_in_minutes'])\n",
    "print(f't={t_stat}, p={t.sf(t_stat, dof)}')"
   ]
  },
  {
   "source": [
    "T-tets tussen de vetraging van een vlucht en de aankomst vetraging van de vlucht\n",
    "\n",
    "Zoals te zien is is de Probability tussen deze twee waardes 0.99, wat betekend dat er een hoge correlatie zit tussen de twee waardes. Als de P waarde boven de 0.05 zit kan de \"Null Hypothesis\" aangenomen moet worden. wat betekend dat er geen relatie zit tussen de twee waardes\n",
    "De T-score geeft aan hoe groot het verschil is tussen de twee groepen die vergeleken worden, hoe hoger het getal hoe groter het verschil is. Wat betekend dat er nauwelijks een verschil zit in de data van departure delay en arrival delay."
   ],
   "cell_type": "markdown",
   "metadata": {}
  },
  {
   "source": [
    "T-toets tussen de leeftijd van een passagier en de aankomst vertraging van de vlucht\n",
    "\n",
    "De Probability tussen de leeftijd en vertraging is practisch 0, waardoor de \"Null Hypothesis\" verworpen moet worden. Wat betekend dat er een correlatie zit tussen de leeftijd van passagiers en de vetraging van de vlucht.\n",
    "Hoge T-waarde geeft ook aan dat er een groot verschil zit in de waardes tussen age en departure delay"
   ],
   "cell_type": "markdown",
   "metadata": {}
  },
  {
   "cell_type": "code",
   "execution_count": 98,
   "metadata": {},
   "outputs": [
    {
     "output_type": "stream",
     "name": "stdout",
     "text": [
      "t=193.35467175867947, p=0.0\n"
     ]
    }
   ],
   "source": [
    "t_stat, p = ttest_ind(df['age'], df['departure_delay_in_minutes'])\n",
    "print(f't={t_stat}, p={t.sf(t_stat, dof)}')"
   ]
  },
  {
   "source": [
    "# PCA\n",
    "PCA wordt gebruikt om de variatie die elke kolom bij draagt aan de dataset te bepalen, als een kolom een hoge bijdrage heeft zal het belangrijk zijn om deze te gebruiken om te trainen, terwijl lage variatie kolommen weinig toevoegen aan het trainen van de modellen."
   ],
   "cell_type": "markdown",
   "metadata": {}
  },
  {
   "cell_type": "code",
   "execution_count": 99,
   "metadata": {},
   "outputs": [],
   "source": [
    "df.dtypes\n",
    "df.drop(['gender', 'customer_type', 'type_of_travel', 'class', 'flight_distance'] , axis = 1, inplace = True)"
   ]
  },
  {
   "cell_type": "code",
   "execution_count": 100,
   "metadata": {},
   "outputs": [
    {
     "output_type": "stream",
     "name": "stdout",
     "text": [
      "Score: 0.9052 - Totaal: 0.905 For column: age\n",
      "Score: 0.0713 - Totaal: 0.976 For column: inflight_wifi_service\n",
      "Score: 0.0159 - Totaal: 0.992 For column: departure/arrival_time_convenient\n",
      "Score: 0.002 - Totaal: 0.994 For column: ease_of_online_booking\n",
      "Score: 0.0014 - Totaal: 0.996 For column: gate_location\n",
      "Score: 0.0011 - Totaal: 0.997 For column: food_and_drink\n",
      "Score: 0.0006 - Totaal: 0.998 For column: online_boarding\n",
      "Score: 0.0005 - Totaal: 0.998 For column: seat_comfort\n",
      "Score: 0.0004 - Totaal: 0.998 For column: inflight_entertainment\n",
      "Score: 0.0003 - Totaal: 0.999 For column: on-board_service\n",
      "Score: 0.0003 - Totaal: 0.999 For column: leg_room_service\n",
      "Score: 0.0002 - Totaal: 0.999 For column: baggage_handling\n",
      "Score: 0.0002 - Totaal: 0.999 For column: checkin_service\n",
      "Score: 0.0002 - Totaal: 1.0 For column: inflight_service\n",
      "Score: 0.0002 - Totaal: 1.0 For column: cleanliness\n",
      "Score: 0.0001 - Totaal: 1.0 For column: departure_delay_in_minutes\n",
      "Score: 0.0001 - Totaal: 1.0 For column: arrival_delay_in_minutes\n"
     ]
    }
   ],
   "source": [
    "labels = df.pop('satisfaction')\n",
    "\n",
    "pca = PCA()\n",
    "pca.fit_transform(df)\n",
    "totaal = 0\n",
    "index = 0\n",
    "cols = df.columns\n",
    "\n",
    "for score in pca.explained_variance_ratio_:\n",
    "    score = round(score, 4)\n",
    "    totaal += score\n",
    "    print(f'Score: {score} - Totaal: {round(totaal, 3)} For column: {cols[index]}')\n",
    "    index += 1"
   ]
  },
  {
   "source": [
    "Aan de hand van de PCA is te zien dat de eerste drie kolommen (age, inflight wifi service en departure/arrival time convenient) bijna alles bijdragen aan de volledige variatie, hierdoor kan de beslissing genomen worden om alleen de eerste drie kolommen te gebruiken om het model te trainen. Aangezien de overige kolommen geen toegevoegde waarde hebben als het gaat om de totale variatie in de dataset."
   ],
   "cell_type": "markdown",
   "metadata": {}
  },
  {
   "source": [
    "# ANOVA\n",
    "ANOVA is T-toets alleen dan voor een kolom waarin meerdere waardes zitten, als het binair is kan t-toets gebruikt worden en voor meer is anova nodig."
   ],
   "cell_type": "markdown",
   "metadata": {}
  },
  {
   "cell_type": "code",
   "execution_count": 110,
   "metadata": {},
   "outputs": [
    {
     "output_type": "stream",
     "name": "stdout",
     "text": [
      "F-Statistic=79944.470, p=0.000\n"
     ]
    }
   ],
   "source": [
    "from scipy import stats\n",
    "\n",
    "jongeren = df['age'][df['age'] < 25]\n",
    "volwassenen = df['age'][(df['age'] > 25) & (df['age'] <= 65)]\n",
    "ouderen = df['age'][df['age'] > 65]\n",
    "\n",
    "F, p = stats.f_oneway(jongeren, volwassenen, ouderen)\n",
    "# Seeing if the overall model is significant\n",
    "print('F-Statistic=%.3f, p=%.3f' % (F, p))"
   ]
  },
  {
   "source": [
    "Hierin blijkt aan de hand van de F waarde dat de vershillen in leeftijdsgroepen erg groot is, terwijl de pwaarde erg klein is. Dit wil zeggen dat de null hypothese verworpen moet worden"
   ],
   "cell_type": "markdown",
   "metadata": {}
  },
  {
   "source": [
    "# Bronvermelding\n",
    "\n",
    "T-toets:\n",
    "[Code](https://predictivehacks.com/how-to-perform-a-students-t-test-in-python/), [theorie](https://towardsdatascience.com/inferential-statistics-series-t-test-using-numpy-2718f8f9bf2f)\n",
    "\n",
    "ANOVA: [Code](https://www.analyticsvidhya.com/blog/2020/06/introduction-anova-statistics-data-science-covid-python/)"
   ],
   "cell_type": "markdown",
   "metadata": {}
  }
 ]
}