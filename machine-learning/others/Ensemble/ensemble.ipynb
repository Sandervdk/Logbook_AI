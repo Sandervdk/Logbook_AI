{
 "metadata": {
  "language_info": {
   "codemirror_mode": {
    "name": "ipython",
    "version": 3
   },
   "file_extension": ".py",
   "mimetype": "text/x-python",
   "name": "python",
   "nbconvert_exporter": "python",
   "pygments_lexer": "ipython3",
   "version": 3
  },
  "orig_nbformat": 2
 },
 "nbformat": 4,
 "nbformat_minor": 2,
 "cells": [
  {
   "source": [
    "# Sander van de Kamp\n",
    "#### 500734351 \n",
    "#### 25/05/2021\n",
    "# Ensemble methods"
   ],
   "cell_type": "markdown",
   "metadata": {}
  },
  {
   "source": [
    "## Bagging\n",
    "Bij Bagging wordt er gebruik gemaakt van drie losse modellen (drie keer hetzelfde model) die alle drie op hun eigen deel van de dataset getrained worden, hierbij wordt er gebaseerd op de drie modellen de meeste gekozen waarde genomen. \n",
    "\n",
    "## Boosting\n",
    "Met boosting worden er ook drie losse modellen getrained, alleen worden ze niet met identieke data getrained. Het eerste model wordt getrained op de volledige dataset, waarna het tweede model alleen getrained wordt met de fouten van het eerste model, dit wordt hetzelfde gedaan voor het derde model. Hierdoor kunnen consistente fouten uit het model gehaald worden, daarnaast door boosting toe te passen hoeft een model niet overtrained te worden op één specifieke fout op te lossen.\n",
    "\n",
    "## Stacking\n",
    "Stackings is het toepassen van drie verschillende modellen op dezelfde dataset, die getrained zijn op dezelfde dataset, waarbij als er een voorspelling gemaakt er de waarde gekozen wordt die het meest gekozen wordt. Dit wordt voornamelijk gebruikt voor Decision trees, SVM en meer."
   ],
   "cell_type": "markdown",
   "metadata": {}
  },
  {
   "cell_type": "code",
   "execution_count": null,
   "metadata": {},
   "outputs": [],
   "source": []
  },
  {
   "source": [
    "# Bronvermelding\n",
    "https://pythoncursus.nl/ensemble-methods/"
   ],
   "cell_type": "markdown",
   "metadata": {}
  }
 ]
}