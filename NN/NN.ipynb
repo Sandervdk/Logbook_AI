{
 "metadata": {
  "language_info": {
   "codemirror_mode": {
    "name": "ipython",
    "version": 3
   },
   "file_extension": ".py",
   "mimetype": "text/x-python",
   "name": "python",
   "nbconvert_exporter": "python",
   "pygments_lexer": "ipython3",
   "version": "3.8.3-final"
  },
  "orig_nbformat": 2,
  "kernelspec": {
   "name": "python3",
   "display_name": "Python 3.8.3 64-bit (conda)",
   "metadata": {
    "interpreter": {
     "hash": "a8f61be024eba58adef938c9aa1e29e02cb3dece83a5348b1a2dafd16a070453"
    }
   }
  }
 },
 "nbformat": 4,
 "nbformat_minor": 2,
 "cells": [
  {
   "cell_type": "code",
   "execution_count": 55,
   "metadata": {},
   "outputs": [],
   "source": [
    "import pandas\n",
    "import numpy as np\n",
    "import keras"
   ]
  },
  {
   "source": [
    "# nn"
   ],
   "cell_type": "markdown",
   "metadata": {}
  },
  {
   "cell_type": "code",
   "execution_count": null,
   "metadata": {},
   "outputs": [],
   "source": [
    "# learnable params\n",
    "weight = []\n",
    "bias = []\n",
    "\n"
   ]
  },
  {
   "source": [
    "# yeet"
   ],
   "cell_type": "markdown",
   "metadata": {}
  },
  {
   "cell_type": "code",
   "execution_count": 56,
   "metadata": {},
   "outputs": [],
   "source": [
    "# C = matMul() // create stuff\n",
    "# id_matrix = identity_matrix() // Generate Identity matrix\n",
    "# inv_matrix = inverse_matrix() // Inverse matrix"
   ]
  },
  {
   "cell_type": "code",
   "execution_count": 57,
   "metadata": {},
   "outputs": [],
   "source": [
    "# Creates a matrix based on the size?\n",
    "def matMul(a, b):\n",
    "    return a * b"
   ]
  },
  {
   "cell_type": "code",
   "execution_count": 58,
   "metadata": {},
   "outputs": [
    {
     "output_type": "stream",
     "name": "stdout",
     "text": [
      "[[1, 0, 0], [0, 1, 0], [0, 0, 1]]\n"
     ]
    }
   ],
   "source": [
    "# Returns the inverse of the given matrix\n",
    "def inverse_matrix(matrix):\n",
    "    return matrix;\n",
    "print(inverse_matrix(identity_matrix(3)))"
   ]
  },
  {
   "cell_type": "code",
   "execution_count": 59,
   "metadata": {},
   "outputs": [],
   "source": [
    "# Returns an identity matrix based on the size of the matrix\n",
    "def identity_matrix(size):\n",
    "    matrix = [[0 for x in range(size)] for x in range(size)]\n",
    "    for i in range(size):\n",
    "        matrix[i][i] = 1\n",
    "    return matrix;"
   ]
  },
  {
   "cell_type": "code",
   "execution_count": 61,
   "metadata": {},
   "outputs": [],
   "source": [
    "def make_layer(inuput_neurons, hidden_neurons, activation):\n",
    "    weights = np.random.normal(loc = 0.0, scale = np.sqrt(2 / (inuput_neurons)), size = (inuput_neurons, hidden_neurons));\n",
    "    biases = np.zeros(hidden_neurons);\n",
    "    return [weights, biases, activation, []];"
   ]
  },
  {
   "cell_type": "code",
   "execution_count": 62,
   "metadata": {},
   "outputs": [],
   "source": [
    "def feed_forward(input_neurons, hidden_layer):\n",
    "    activation_function = hidden_layer[2];\n",
    "    hidden_layer[3] = activation_function(np.dot(input_neurons, hidden_layer[0]) + hidden_layer[1]);    \n",
    "    return hidden_layer[3];"
   ]
  },
  {
   "cell_type": "code",
   "execution_count": 63,
   "metadata": {},
   "outputs": [],
   "source": [
    "def feed_backward(output_neurons, output_layer):\n",
    "    pass;"
   ]
  },
  {
   "cell_type": "code",
   "execution_count": 64,
   "metadata": {},
   "outputs": [],
   "source": [
    "layer1 = make_layer(2, 3, sigmoidF);\n",
    "outlayer = make_layer(3, 2, softmaxF);\n",
    "input_neurons = np.ones((3))"
   ]
  },
  {
   "source": [
    "## Error functions create class objects (Mean squared error)\n",
    "## Create derivative of error functions\n",
    "## Watch the the dlo link vids"
   ],
   "cell_type": "markdown",
   "metadata": {}
  },
  {
   "source": [
    "## Neuraal netwerk beschrijven\n"
   ],
   "cell_type": "markdown",
   "metadata": {}
  },
  {
   "cell_type": "code",
   "execution_count": 65,
   "metadata": {},
   "outputs": [],
   "source": [
    "def make_model(model_definition):\n",
    "    model = [];\n",
    "    layers = model_definition[0];\n",
    "    activations = model_definition[1];\n",
    "\n",
    "    for count, element in enumerate(layers[:-1]):\n",
    "        layer = make_layer(element, layers[count + 1], activations[count]);\n",
    "        model.append(layer);\n",
    "\n",
    "    return model;"
   ]
  },
  {
   "cell_type": "code",
   "execution_count": 66,
   "metadata": {},
   "outputs": [],
   "source": [
    "def predict(model, X):\n",
    "    result = X;\n",
    "\n",
    "    for layer in model:\n",
    "        result = feed_forward(result, layer);\n",
    "\n",
    "    return result;"
   ]
  },
  {
   "cell_type": "code",
   "execution_count": 74,
   "metadata": {},
   "outputs": [],
   "source": [
    "# model = input_neurons, hidden_1, hidden_2, output;\n",
    "model = [[4, 3, 3, 2], [sigmoidF, sigmoidF, softmaxF]]\n",
    "result_model = make_model(model)"
   ]
  },
  {
   "cell_type": "code",
   "execution_count": 75,
   "metadata": {},
   "outputs": [
    {
     "output_type": "execute_result",
     "data": {
      "text/plain": [
       "array([0.24657219, 0.75342781])"
      ]
     },
     "metadata": {},
     "execution_count": 75
    }
   ],
   "source": [
    "input_neurons = np.ones((4))\n",
    "predict(result_model, input_neurons)"
   ]
  },
  {
   "cell_type": "code",
   "execution_count": null,
   "metadata": {},
   "outputs": [],
   "source": []
  }
 ]
}