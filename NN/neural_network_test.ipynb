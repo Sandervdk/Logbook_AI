{
 "metadata": {
  "language_info": {
   "codemirror_mode": {
    "name": "ipython",
    "version": 3
   },
   "file_extension": ".py",
   "mimetype": "text/x-python",
   "name": "python",
   "nbconvert_exporter": "python",
   "pygments_lexer": "ipython3",
   "version": "3.8.3-final"
  },
  "orig_nbformat": 2,
  "kernelspec": {
   "name": "python383jvsc74a57bd0a8f61be024eba58adef938c9aa1e29e02cb3dece83a5348b1a2dafd16a070453",
   "display_name": "Python 3.8.3 64-bit (conda)"
  }
 },
 "nbformat": 4,
 "nbformat_minor": 2,
 "cells": [
  {
   "cell_type": "code",
   "execution_count": 1,
   "metadata": {},
   "outputs": [],
   "source": [
    "from neural_network import Neural_network\n",
    "from matrix import Matrix, Vector \n",
    "from activation_functions import sigmoid, mse, relu"
   ]
  },
  {
   "cell_type": "code",
   "execution_count": 2,
   "metadata": {},
   "outputs": [
    {
     "output_type": "stream",
     "name": "stdout",
     "text": [
      "getrained op [5, -5, 2] == 1 & [-5, 5, 2] == 0\neerste en tweede waardes zouden invloed moeten hebben op het eindresultaat, waarbij de 3e waarde niet mee zou moeten wegen\n\ntwee keer 0, aangezien 1e waarde negatief is en 2e positief\n[0.02284948961840631]  ==  0\n[0.022849492809682084]  ==  0\n\ntwee keer 1, aangezien eerste input dicht bij de 5 ligt\n[0.945283883641114]  ==  1\n[0.945283883641114]  ==  1\n\ndrie keer andere waarde voor 3e input om te laten zien dat de 3e input geen invloed meer heeft\n[0.945283883641114]  ==  1\n[0.945283883641114]  ==  1\n[0.945283883641114]  ==  1\n"
     ]
    }
   ],
   "source": [
    "nn = Neural_network()\n",
    "nn.create_layer(3, sigmoid.Sigmoid())\n",
    "nn.create_layer(1, sigmoid.Sigmoid())\n",
    "\n",
    "training_data1 = Vector(vector = [5, -5, 2])\n",
    "training_data2 = Vector(vector = [-5, 5, 2])\n",
    "\n",
    "outcome1 = Vector(vector = [1])\n",
    "outcome2 = Vector(vector = [0])\n",
    "\n",
    "# Trains the NN with two possible outcomes\n",
    "for i in range(5000): \n",
    "    nn.fit(training_data1, outcome1, learning_rate = 0.05)\n",
    "    nn.fit(training_data2, outcome2, learning_rate = 0.05)\n",
    "\n",
    "print('getrained op [5, -5, 2] == 1 & [-5, 5, 2] == 0')\n",
    "print('eerste en tweede waardes zouden invloed moeten hebben op het eindresultaat, waarbij de 3e waarde niet mee zou moeten wegen')\n",
    "print('\\ntwee keer 0, aangezien 1e waarde negatief is en 2e positief')\n",
    "print(nn.predict(Vector(vector = [-5, 5, 2])), ' == ', 0)\n",
    "print(nn.predict(Vector(vector = [-1, 4, 3])), ' == ', 0)\n",
    "\n",
    "print('\\ntwee keer 1, aangezien eerste input dicht bij de 5 ligt')\n",
    "print(nn.predict(Vector(vector = [6, -5, 2])), ' == ', 1)\n",
    "print(nn.predict(Vector(vector = [4, -1, 1])), ' == ', 1)\n",
    "\n",
    "print('\\ndrie keer andere waarde voor 3e input om te laten zien dat de 3e input geen invloed meer heeft')\n",
    "print(nn.predict(Vector(vector = [4, 0, 1])), ' == ', 1)\n",
    "print(nn.predict(Vector(vector = [4, 0, 16])), ' == ', 1)\n",
    "print(nn.predict(Vector(vector = [4, 0, -16])), ' == ', 1)"
   ]
  },
  {
   "cell_type": "code",
   "execution_count": null,
   "metadata": {},
   "outputs": [],
   "source": []
  }
 ]
}