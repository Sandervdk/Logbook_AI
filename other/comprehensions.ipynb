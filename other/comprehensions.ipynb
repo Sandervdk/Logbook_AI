{
 "metadata": {
  "language_info": {
   "codemirror_mode": {
    "name": "ipython",
    "version": 3
   },
   "file_extension": ".py",
   "mimetype": "text/x-python",
   "name": "python",
   "nbconvert_exporter": "python",
   "pygments_lexer": "ipython3",
   "version": "3.8.3"
  },
  "orig_nbformat": 2,
  "kernelspec": {
   "name": "python3",
   "display_name": "Python 3.8.3 64-bit ('base': conda)",
   "metadata": {
    "interpreter": {
     "hash": "a8f61be024eba58adef938c9aa1e29e02cb3dece83a5348b1a2dafd16a070453"
    }
   }
  }
 },
 "nbformat": 4,
 "nbformat_minor": 2,
 "cells": [
  {
   "source": [
    "# Sander van de Kamp\n",
    "#### 500734351 \n",
    "#### 31/03/2021\n",
    "# Comprehensions\n",
    "## fill list with 0s"
   ],
   "cell_type": "markdown",
   "metadata": {}
  },
  {
   "cell_type": "code",
   "execution_count": 7,
   "metadata": {},
   "outputs": [
    {
     "output_type": "execute_result",
     "data": {
      "text/plain": [
       "[0, 0, 0, 0, 0, 0, 0, 0, 0, 0]"
      ]
     },
     "metadata": {},
     "execution_count": 7
    }
   ],
   "source": [
    "zeros = [0 for x in range(10)]\n",
    "zeros"
   ]
  },
  {
   "source": [
    "## Fill list with random values"
   ],
   "cell_type": "markdown",
   "metadata": {}
  },
  {
   "cell_type": "code",
   "execution_count": 8,
   "metadata": {},
   "outputs": [
    {
     "output_type": "execute_result",
     "data": {
      "text/plain": [
       "[0.694, 0.234, 0.894, 0.774, 0.059, 0.423, 0.6, 0.953, 0.66, 0.684]"
      ]
     },
     "metadata": {},
     "execution_count": 8
    }
   ],
   "source": [
    "from random import randint\n",
    "randoms = [randint(0, 1000) / 1000 for i in range(10)]\n",
    "randoms"
   ]
  },
  {
   "source": [
    "## Fill 2d list with random values"
   ],
   "cell_type": "markdown",
   "metadata": {}
  },
  {
   "cell_type": "code",
   "execution_count": 9,
   "metadata": {},
   "outputs": [
    {
     "output_type": "execute_result",
     "data": {
      "text/plain": [
       "[[0.018, 0.398, 0.093, 0.326, 0.584, 0.385, 0.361, 0.187, 0.728, 0.911],\n",
       " [0.811, 0.847, 0.582, 0.425, 0.359, 0.049, 0.709, 0.353, 0.633, 0.944],\n",
       " [0.048, 0.761, 0.73, 0.538, 0.79, 0.328, 0.571, 0.492, 0.138, 0.823],\n",
       " [0.393, 0.692, 0.142, 0.088, 0.105, 0.582, 0.516, 0.57, 0.904, 0.198],\n",
       " [0.919, 0.879, 0.527, 0.137, 0.906, 0.009, 0.645, 0.563, 0.65, 0.398],\n",
       " [0.699, 0.2, 0.928, 0.501, 0.131, 0.076, 0.45, 0.419, 0.113, 0.054],\n",
       " [0.807, 0.309, 0.734, 0.792, 0.845, 0.586, 0.79, 0.262, 0.008, 0.468],\n",
       " [0.784, 0.265, 0.447, 0.646, 0.377, 0.719, 0.901, 0.819, 0.283, 0.843],\n",
       " [0.462, 0.673, 0.204, 0.233, 0.876, 0.892, 0.131, 0.084, 0.583, 0.113],\n",
       " [0.27, 0.045, 0.594, 0.289, 0.611, 0.031, 0.896, 0.668, 0.686, 0.132]]"
      ]
     },
     "metadata": {},
     "execution_count": 9
    }
   ],
   "source": [
    "[[randint(0, 1000) / 1000 for i in range(10)] for x in range(10)]"
   ]
  }
 ]
}