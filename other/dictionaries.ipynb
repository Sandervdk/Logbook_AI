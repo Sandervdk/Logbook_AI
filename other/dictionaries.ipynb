{
 "metadata": {
  "language_info": {
   "codemirror_mode": {
    "name": "ipython",
    "version": 3
   },
   "file_extension": ".py",
   "mimetype": "text/x-python",
   "name": "python",
   "nbconvert_exporter": "python",
   "pygments_lexer": "ipython3",
   "version": "3.8.3"
  },
  "orig_nbformat": 2,
  "kernelspec": {
   "name": "python3",
   "display_name": "Python 3.8.3 64-bit ('base': conda)",
   "metadata": {
    "interpreter": {
     "hash": "a8f61be024eba58adef938c9aa1e29e02cb3dece83a5348b1a2dafd16a070453"
    }
   }
  }
 },
 "nbformat": 4,
 "nbformat_minor": 2,
 "cells": [
  {
   "source": [
    "# Sander van de Kamp\n",
    "#### 500734351 \n",
    "#### 31/03/2021\n",
    "# Dictionaries"
   ],
   "cell_type": "markdown",
   "metadata": {}
  },
  {
   "source": [
    "## Waardes in een dictionary toevoegen"
   ],
   "cell_type": "markdown",
   "metadata": {}
  },
  {
   "cell_type": "code",
   "execution_count": 2,
   "metadata": {},
   "outputs": [],
   "source": [
    "dictionary = {}\n",
    "dictionary['kaas'] = 5\n",
    "dictionary['tomaat'] = 2\n",
    "dictionary['wortel'] = 3"
   ]
  },
  {
   "source": [
    "## dictionary waardes terughalen"
   ],
   "cell_type": "markdown",
   "metadata": {}
  },
  {
   "cell_type": "code",
   "execution_count": 5,
   "metadata": {},
   "outputs": [
    {
     "output_type": "stream",
     "name": "stdout",
     "text": [
      "2  ==  2\n5  ==  5\n"
     ]
    }
   ],
   "source": [
    "print(dictionary['tomaat'], '==', 2)\n",
    "print(dictionary['kaas'], '==', 5)"
   ]
  },
  {
   "source": [
    "## Dictionary loop\n"
   ],
   "cell_type": "markdown",
   "metadata": {}
  },
  {
   "cell_type": "code",
   "execution_count": 8,
   "metadata": {},
   "outputs": [
    {
     "output_type": "stream",
     "name": "stdout",
     "text": [
      "kaas : 5\ntomaat : 2\nwortel : 3\nkaas\ntomaat\nwortel\n5\n2\n3\n"
     ]
    }
   ],
   "source": [
    "for key, value in dictionary.items():\n",
    "    print(key, ':', value)\n",
    "\n",
    "for key in dictionary.keys():\n",
    "    print(key)\n",
    "\n",
    "for val in dictionary.values():\n",
    "    print(val)"
   ]
  },
  {
   "source": [
    "## Waardes toevoegen in dictionary"
   ],
   "cell_type": "markdown",
   "metadata": {}
  },
  {
   "cell_type": "code",
   "execution_count": 10,
   "metadata": {},
   "outputs": [
    {
     "output_type": "stream",
     "name": "stdout",
     "text": [
      "{'kaas': 6, 'tomaat': 3, 'wortel': 3, 'brood': 2}\n"
     ]
    }
   ],
   "source": [
    "toevoegen = ['kaas', 'brood', 'tomaat', 'brood']\n",
    "\n",
    "for eten in toevoegen:\n",
    "    if eten in dictionary.keys():\n",
    "        dictionary[eten] += 1\n",
    "    else:\n",
    "        dictionary[eten] = 1\n",
    "    \n",
    "print(dictionary)"
   ]
  },
  {
   "source": [
    "## gesorteerd printen"
   ],
   "cell_type": "markdown",
   "metadata": {}
  },
  {
   "cell_type": "code",
   "execution_count": 31,
   "metadata": {},
   "outputs": [
    {
     "output_type": "stream",
     "name": "stdout",
     "text": [
      "brood -> 2\ntomaat -> 3\nwortel -> 3\nkaas -> 6\n"
     ]
    }
   ],
   "source": [
    "def value(item):\n",
    "    return item[1];\n",
    "\n",
    "for key, value in sorted(dictionary.items(), key = value):\n",
    "    print(key, '->', value)"
   ]
  }
 ]
}