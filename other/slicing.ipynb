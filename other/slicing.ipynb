{
 "metadata": {
  "language_info": {
   "codemirror_mode": {
    "name": "ipython",
    "version": 3
   },
   "file_extension": ".py",
   "mimetype": "text/x-python",
   "name": "python",
   "nbconvert_exporter": "python",
   "pygments_lexer": "ipython3",
   "version": "3.8.3"
  },
  "orig_nbformat": 2,
  "kernelspec": {
   "name": "python3",
   "display_name": "Python 3.8.3 64-bit ('base': conda)",
   "metadata": {
    "interpreter": {
     "hash": "a8f61be024eba58adef938c9aa1e29e02cb3dece83a5348b1a2dafd16a070453"
    }
   }
  }
 },
 "nbformat": 4,
 "nbformat_minor": 2,
 "cells": [
  {
   "source": [
    "# Sander van de Kamp\n",
    "#### 500734351 \n",
    "#### 31/03/2021\n",
    "# Slicing"
   ],
   "cell_type": "markdown",
   "metadata": {}
  },
  {
   "cell_type": "code",
   "execution_count": 10,
   "metadata": {},
   "outputs": [],
   "source": [
    "values = [1, 2, 3, 4, 5, 6, 7, 8, 9, 10]\n"
   ]
  },
  {
   "source": [
    "## 5 waardes halen uit de list op verschillende plekken"
   ],
   "cell_type": "markdown",
   "metadata": {}
  },
  {
   "cell_type": "code",
   "execution_count": 11,
   "metadata": {},
   "outputs": [
    {
     "output_type": "stream",
     "name": "stdout",
     "text": [
      "[1, 2, 3, 4, 5]\n[3, 4, 5, 6, 7]\n[6, 7, 8, 9, 10]\n"
     ]
    }
   ],
   "source": [
    "print(values[0:5]) # 1 tot en met 5\n",
    "print(values[2:7]) # 3 tot en met 7\n",
    "print(values[5:10]) # 6 tot en met 10"
   ]
  },
  {
   "source": [
    "## alles vanaf specifiek punt nemen"
   ],
   "cell_type": "markdown",
   "metadata": {}
  },
  {
   "cell_type": "code",
   "execution_count": 13,
   "metadata": {},
   "outputs": [
    {
     "output_type": "stream",
     "name": "stdout",
     "text": [
      "[1, 2, 3, 4, 5, 6, 7, 8, 9]\n[3, 4, 5, 6, 7, 8, 9, 10]\n"
     ]
    }
   ],
   "source": [
    "print(values[:-1]) # alles behalve laatste\n",
    "print(values[2:]) # alles vanaf 2"
   ]
  },
  {
   "source": [
    "## overige manieren om data uit lists te halen"
   ],
   "cell_type": "markdown",
   "metadata": {}
  },
  {
   "cell_type": "code",
   "execution_count": 36,
   "metadata": {},
   "outputs": [
    {
     "output_type": "stream",
     "name": "stdout",
     "text": [
      "[1, 3, 5, 7, 9]\n[1, 5, 9]\n[10, 9, 8, 7, 6, 5, 4, 3, 2, 1]\n[6, 5, 4, 3]\n"
     ]
    }
   ],
   "source": [
    "print(values[::2]) # 1 getal over slaan\n",
    "print(values[::4]) # 3 getallen over slaan\n",
    "print(values[::-1]) # lijst omdraaien\n",
    "print(values[5:1:-1]) # 3 tot 6 achteruit weergeven"
   ]
  }
 ]
}